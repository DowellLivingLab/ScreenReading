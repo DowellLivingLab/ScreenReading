{
 "cells": [
  {
   "cell_type": "code",
   "execution_count": 2,
   "metadata": {},
   "outputs": [],
   "source": [
    "import numpy as np\n",
    "from PIL import ImageGrab\n",
    "import cv2\n",
    "\n",
    "#Change accordingly\n",
    "screen_w = 1920\n",
    "screen_h = 1080\n",
    "\n",
    "while True:\n",
    "    rgb = ImageGrab.grab(bbox=(0, 0, screen_w, screen_h)) #x1, y1, x2, y2\n",
    "    rgb = np.array(rgb)\n",
    "\n",
    "    cv2.imshow('window_frame', rgb)\n",
    "\n",
    "    if cv2.waitKey(1) & 0xFF == ord('q'):\n",
    "        break"
   ]
  }
 ],
 "metadata": {
  "kernelspec": {
   "display_name": "Python 3",
   "language": "python",
   "name": "python3"
  },
  "language_info": {
   "codemirror_mode": { 
    "name": "ipython",
    "version": 3
   },
   "file_extension": ".py",
   "mimetype": "text/x-python",
   "name": "python",
   "nbconvert_exporter": "python",
   "pygments_lexer": "ipython3",
   "version": "3.7.6"
  }
 },
 "nbformat": 4,
 "nbformat_minor": 4
}
